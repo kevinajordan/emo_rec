{
 "cells": [
  {
   "cell_type": "code",
   "execution_count": 1,
   "metadata": {
    "ExecuteTime": {
     "end_time": "2020-01-06T11:58:34.022750Z",
     "start_time": "2020-01-06T11:58:34.009751Z"
    },
    "colab": {},
    "colab_type": "code",
    "id": "EAqWYupZHIJE"
   },
   "outputs": [
    {
     "data": {
      "text/plain": [
       "['.ipynb_checkpoints',\n",
       " '.vscode',\n",
       " 'CNN_FER2013Plus.py',\n",
       " 'Data.py',\n",
       " 'DataLoader.py',\n",
       " 'ExperimentManager.py',\n",
       " 'FER2013PlusLoader.py',\n",
       " 'FERPlus',\n",
       " 'LogManager.py',\n",
       " 'ModelImplementation.py',\n",
       " 'PlotManager.py',\n",
       " 'TestingFER2013Plus.ipynb',\n",
       " '__pycache__']"
      ]
     },
     "execution_count": 1,
     "metadata": {},
     "output_type": "execute_result"
    }
   ],
   "source": [
    "import os\n",
    "os.chdir('emo_recog')\n",
    "os.listdir('.')"
   ]
  },
  {
   "cell_type": "code",
   "execution_count": 3,
   "metadata": {
    "ExecuteTime": {
     "end_time": "2020-01-06T12:05:50.108269Z",
     "start_time": "2020-01-06T12:05:47.469268Z"
    },
    "colab": {
     "base_uri": "https://localhost:8080/",
     "height": 34
    },
    "colab_type": "code",
    "executionInfo": {
     "elapsed": 840,
     "status": "ok",
     "timestamp": 1576869797965,
     "user": {
      "displayName": "Kevin Jordan",
      "photoUrl": "https://lh3.googleusercontent.com/a-/AAuE7mC6XtV_GA6LVR5em8q051dfEEHXsabHiKO6ZsY6YA=s64",
      "userId": "06254352654115806834"
     },
     "user_tz": 360
    },
    "id": "yjFJJIRPHRxS",
    "outputId": "c35b1b13-325a-46f1-e1f1-0a9713de2666"
   },
   "outputs": [
    {
     "ename": "AttributeError",
     "evalue": "module 'numpy.random' has no attribute 'bit_generator'",
     "output_type": "error",
     "traceback": [
      "\u001b[1;31m---------------------------------------------------------------------------\u001b[0m",
      "\u001b[1;31mAttributeError\u001b[0m                            Traceback (most recent call last)",
      "\u001b[1;32m<ipython-input-3-51b695245f88>\u001b[0m in \u001b[0;36m<module>\u001b[1;34m\u001b[0m\n\u001b[1;32m----> 1\u001b[1;33m \u001b[1;32mimport\u001b[0m \u001b[0mExperimentManager\u001b[0m\u001b[1;33m,\u001b[0m \u001b[0mFER2013PlusLoader\u001b[0m\u001b[1;33m,\u001b[0m \u001b[0mCNN_FER2013Plus\u001b[0m\u001b[1;33m\u001b[0m\u001b[1;33m\u001b[0m\u001b[0m\n\u001b[0m",
      "\u001b[1;32m~\\Documents\\Company\\Emotive ML System\\emo_recog\\FER2013PlusLoader.py\u001b[0m in \u001b[0;36m<module>\u001b[1;34m\u001b[0m\n\u001b[0;32m     14\u001b[0m \u001b[1;33m\u001b[0m\u001b[0m\n\u001b[0;32m     15\u001b[0m seq = iaa.Sequential([\n\u001b[1;32m---> 16\u001b[1;33m     \u001b[0miaa\u001b[0m\u001b[1;33m.\u001b[0m\u001b[0mFliplr\u001b[0m\u001b[1;33m(\u001b[0m\u001b[1;36m0.5\u001b[0m\u001b[1;33m)\u001b[0m\u001b[1;33m,\u001b[0m\u001b[1;33m\u001b[0m\u001b[1;33m\u001b[0m\u001b[0m\n\u001b[0m\u001b[0;32m     17\u001b[0m     \u001b[1;31m# st(iaa.Add((-10, 10), per_channel=0.5)),\u001b[0m\u001b[1;33m\u001b[0m\u001b[1;33m\u001b[0m\u001b[1;33m\u001b[0m\u001b[0m\n\u001b[0;32m     18\u001b[0m     \u001b[1;31m# st(iaa.Multiply((0.5, 1.5), per_channel=0.5)),\u001b[0m\u001b[1;33m\u001b[0m\u001b[1;33m\u001b[0m\u001b[1;33m\u001b[0m\u001b[0m\n",
      "\u001b[1;32m~\\Anaconda3\\lib\\site-packages\\imgaug\\augmenters\\flip.py\u001b[0m in \u001b[0;36m__init__\u001b[1;34m(self, p, name, deterministic, random_state)\u001b[0m\n\u001b[0;32m    856\u001b[0m     \u001b[1;32mdef\u001b[0m \u001b[0m__init__\u001b[0m\u001b[1;33m(\u001b[0m\u001b[0mself\u001b[0m\u001b[1;33m,\u001b[0m \u001b[0mp\u001b[0m\u001b[1;33m=\u001b[0m\u001b[1;36m0\u001b[0m\u001b[1;33m,\u001b[0m \u001b[0mname\u001b[0m\u001b[1;33m=\u001b[0m\u001b[1;32mNone\u001b[0m\u001b[1;33m,\u001b[0m \u001b[0mdeterministic\u001b[0m\u001b[1;33m=\u001b[0m\u001b[1;32mFalse\u001b[0m\u001b[1;33m,\u001b[0m \u001b[0mrandom_state\u001b[0m\u001b[1;33m=\u001b[0m\u001b[1;32mNone\u001b[0m\u001b[1;33m)\u001b[0m\u001b[1;33m:\u001b[0m\u001b[1;33m\u001b[0m\u001b[1;33m\u001b[0m\u001b[0m\n\u001b[0;32m    857\u001b[0m         super(Fliplr, self).__init__(\n\u001b[1;32m--> 858\u001b[1;33m             name=name, deterministic=deterministic, random_state=random_state)\n\u001b[0m\u001b[0;32m    859\u001b[0m         \u001b[0mself\u001b[0m\u001b[1;33m.\u001b[0m\u001b[0mp\u001b[0m \u001b[1;33m=\u001b[0m \u001b[0miap\u001b[0m\u001b[1;33m.\u001b[0m\u001b[0mhandle_probability_param\u001b[0m\u001b[1;33m(\u001b[0m\u001b[0mp\u001b[0m\u001b[1;33m,\u001b[0m \u001b[1;34m\"p\"\u001b[0m\u001b[1;33m)\u001b[0m\u001b[1;33m\u001b[0m\u001b[1;33m\u001b[0m\u001b[0m\n\u001b[0;32m    860\u001b[0m \u001b[1;33m\u001b[0m\u001b[0m\n",
      "\u001b[1;32m~\\Anaconda3\\lib\\site-packages\\imgaug\\augmenters\\meta.py\u001b[0m in \u001b[0;36m__init__\u001b[1;34m(self, name, deterministic, random_state)\u001b[0m\n\u001b[0;32m    281\u001b[0m         \u001b[1;32melse\u001b[0m\u001b[1;33m:\u001b[0m\u001b[1;33m\u001b[0m\u001b[1;33m\u001b[0m\u001b[0m\n\u001b[0;32m    282\u001b[0m             \u001b[1;31m# self.random_state = iarandom.normalize_rng_(random_state)\u001b[0m\u001b[1;33m\u001b[0m\u001b[1;33m\u001b[0m\u001b[1;33m\u001b[0m\u001b[0m\n\u001b[1;32m--> 283\u001b[1;33m             \u001b[0mself\u001b[0m\u001b[1;33m.\u001b[0m\u001b[0mrandom_state\u001b[0m \u001b[1;33m=\u001b[0m \u001b[0miarandom\u001b[0m\u001b[1;33m.\u001b[0m\u001b[0mRNG\u001b[0m\u001b[1;33m(\u001b[0m\u001b[0mrandom_state\u001b[0m\u001b[1;33m)\u001b[0m\u001b[1;33m\u001b[0m\u001b[1;33m\u001b[0m\u001b[0m\n\u001b[0m\u001b[0;32m    284\u001b[0m \u001b[1;33m\u001b[0m\u001b[0m\n\u001b[0;32m    285\u001b[0m         \u001b[0mself\u001b[0m\u001b[1;33m.\u001b[0m\u001b[0mactivated\u001b[0m \u001b[1;33m=\u001b[0m \u001b[1;32mTrue\u001b[0m\u001b[1;33m\u001b[0m\u001b[1;33m\u001b[0m\u001b[0m\n",
      "\u001b[1;32m~\\Anaconda3\\lib\\site-packages\\imgaug\\random.py\u001b[0m in \u001b[0;36m__init__\u001b[1;34m(self, generator)\u001b[0m\n\u001b[0;32m    140\u001b[0m             \u001b[0mself\u001b[0m\u001b[1;33m.\u001b[0m\u001b[0mgenerator\u001b[0m \u001b[1;33m=\u001b[0m \u001b[0mgenerator\u001b[0m\u001b[1;33m.\u001b[0m\u001b[0mgenerator\u001b[0m\u001b[1;33m\u001b[0m\u001b[1;33m\u001b[0m\u001b[0m\n\u001b[0;32m    141\u001b[0m         \u001b[1;32melse\u001b[0m\u001b[1;33m:\u001b[0m\u001b[1;33m\u001b[0m\u001b[1;33m\u001b[0m\u001b[0m\n\u001b[1;32m--> 142\u001b[1;33m             \u001b[0mself\u001b[0m\u001b[1;33m.\u001b[0m\u001b[0mgenerator\u001b[0m \u001b[1;33m=\u001b[0m \u001b[0mnormalize_generator_\u001b[0m\u001b[1;33m(\u001b[0m\u001b[0mgenerator\u001b[0m\u001b[1;33m)\u001b[0m\u001b[1;33m\u001b[0m\u001b[1;33m\u001b[0m\u001b[0m\n\u001b[0m\u001b[0;32m    143\u001b[0m         self._is_new_rng_style = (\n\u001b[0;32m    144\u001b[0m             not isinstance(self.generator, np.random.RandomState))\n",
      "\u001b[1;32m~\\Anaconda3\\lib\\site-packages\\imgaug\\random.py\u001b[0m in \u001b[0;36mnormalize_generator_\u001b[1;34m(generator)\u001b[0m\n\u001b[0;32m    839\u001b[0m     \u001b[1;32mif\u001b[0m \u001b[1;32mnot\u001b[0m \u001b[0mSUPPORTS_NEW_NP_RNG_STYLE\u001b[0m\u001b[1;33m:\u001b[0m\u001b[1;33m\u001b[0m\u001b[1;33m\u001b[0m\u001b[0m\n\u001b[0;32m    840\u001b[0m         \u001b[1;32mreturn\u001b[0m \u001b[0m_normalize_generator_np116_\u001b[0m\u001b[1;33m(\u001b[0m\u001b[0mgenerator\u001b[0m\u001b[1;33m)\u001b[0m\u001b[1;33m\u001b[0m\u001b[1;33m\u001b[0m\u001b[0m\n\u001b[1;32m--> 841\u001b[1;33m     \u001b[1;32mreturn\u001b[0m \u001b[0m_normalize_generator_np117_\u001b[0m\u001b[1;33m(\u001b[0m\u001b[0mgenerator\u001b[0m\u001b[1;33m)\u001b[0m\u001b[1;33m\u001b[0m\u001b[1;33m\u001b[0m\u001b[0m\n\u001b[0m\u001b[0;32m    842\u001b[0m \u001b[1;33m\u001b[0m\u001b[0m\n\u001b[0;32m    843\u001b[0m \u001b[1;33m\u001b[0m\u001b[0m\n",
      "\u001b[1;32m~\\Anaconda3\\lib\\site-packages\\imgaug\\random.py\u001b[0m in \u001b[0;36m_normalize_generator_np117_\u001b[1;34m(generator)\u001b[0m\n\u001b[0;32m    844\u001b[0m \u001b[1;32mdef\u001b[0m \u001b[0m_normalize_generator_np117_\u001b[0m\u001b[1;33m(\u001b[0m\u001b[0mgenerator\u001b[0m\u001b[1;33m)\u001b[0m\u001b[1;33m:\u001b[0m\u001b[1;33m\u001b[0m\u001b[1;33m\u001b[0m\u001b[0m\n\u001b[0;32m    845\u001b[0m     \u001b[1;32mif\u001b[0m \u001b[0mgenerator\u001b[0m \u001b[1;32mis\u001b[0m \u001b[1;32mNone\u001b[0m\u001b[1;33m:\u001b[0m\u001b[1;33m\u001b[0m\u001b[1;33m\u001b[0m\u001b[0m\n\u001b[1;32m--> 846\u001b[1;33m         \u001b[1;32mreturn\u001b[0m \u001b[0mget_global_rng\u001b[0m\u001b[1;33m(\u001b[0m\u001b[1;33m)\u001b[0m\u001b[1;33m.\u001b[0m\u001b[0mgenerator\u001b[0m\u001b[1;33m\u001b[0m\u001b[1;33m\u001b[0m\u001b[0m\n\u001b[0m\u001b[0;32m    847\u001b[0m     \u001b[1;32melif\u001b[0m \u001b[0misinstance\u001b[0m\u001b[1;33m(\u001b[0m\u001b[0mgenerator\u001b[0m\u001b[1;33m,\u001b[0m \u001b[0mnp\u001b[0m\u001b[1;33m.\u001b[0m\u001b[0mrandom\u001b[0m\u001b[1;33m.\u001b[0m\u001b[0mSeedSequence\u001b[0m\u001b[1;33m)\u001b[0m\u001b[1;33m:\u001b[0m\u001b[1;33m\u001b[0m\u001b[1;33m\u001b[0m\u001b[0m\n\u001b[0;32m    848\u001b[0m         return np.random.Generator(\n",
      "\u001b[1;32m~\\Anaconda3\\lib\\site-packages\\imgaug\\random.py\u001b[0m in \u001b[0;36mget_global_rng\u001b[1;34m()\u001b[0m\n\u001b[0;32m    736\u001b[0m         \u001b[0mseed\u001b[0m \u001b[1;33m=\u001b[0m \u001b[0mgenerate_seed_\u001b[0m\u001b[1;33m(\u001b[0m\u001b[0mnp\u001b[0m\u001b[1;33m.\u001b[0m\u001b[0mrandom\u001b[0m\u001b[1;33m)\u001b[0m\u001b[1;33m\u001b[0m\u001b[1;33m\u001b[0m\u001b[0m\n\u001b[0;32m    737\u001b[0m \u001b[1;33m\u001b[0m\u001b[0m\n\u001b[1;32m--> 738\u001b[1;33m         \u001b[0mGLOBAL_RNG\u001b[0m \u001b[1;33m=\u001b[0m \u001b[0mRNG\u001b[0m\u001b[1;33m(\u001b[0m\u001b[0mconvert_seed_to_generator\u001b[0m\u001b[1;33m(\u001b[0m\u001b[0mseed\u001b[0m\u001b[1;33m)\u001b[0m\u001b[1;33m)\u001b[0m\u001b[1;33m\u001b[0m\u001b[1;33m\u001b[0m\u001b[0m\n\u001b[0m\u001b[0;32m    739\u001b[0m     \u001b[1;32mreturn\u001b[0m \u001b[0mGLOBAL_RNG\u001b[0m\u001b[1;33m\u001b[0m\u001b[1;33m\u001b[0m\u001b[0m\n\u001b[0;32m    740\u001b[0m \u001b[1;33m\u001b[0m\u001b[0m\n",
      "\u001b[1;32m~\\Anaconda3\\lib\\site-packages\\imgaug\\random.py\u001b[0m in \u001b[0;36m__init__\u001b[1;34m(self, generator)\u001b[0m\n\u001b[0;32m    140\u001b[0m             \u001b[0mself\u001b[0m\u001b[1;33m.\u001b[0m\u001b[0mgenerator\u001b[0m \u001b[1;33m=\u001b[0m \u001b[0mgenerator\u001b[0m\u001b[1;33m.\u001b[0m\u001b[0mgenerator\u001b[0m\u001b[1;33m\u001b[0m\u001b[1;33m\u001b[0m\u001b[0m\n\u001b[0;32m    141\u001b[0m         \u001b[1;32melse\u001b[0m\u001b[1;33m:\u001b[0m\u001b[1;33m\u001b[0m\u001b[1;33m\u001b[0m\u001b[0m\n\u001b[1;32m--> 142\u001b[1;33m             \u001b[0mself\u001b[0m\u001b[1;33m.\u001b[0m\u001b[0mgenerator\u001b[0m \u001b[1;33m=\u001b[0m \u001b[0mnormalize_generator_\u001b[0m\u001b[1;33m(\u001b[0m\u001b[0mgenerator\u001b[0m\u001b[1;33m)\u001b[0m\u001b[1;33m\u001b[0m\u001b[1;33m\u001b[0m\u001b[0m\n\u001b[0m\u001b[0;32m    143\u001b[0m         self._is_new_rng_style = (\n\u001b[0;32m    144\u001b[0m             not isinstance(self.generator, np.random.RandomState))\n",
      "\u001b[1;32m~\\Anaconda3\\lib\\site-packages\\imgaug\\random.py\u001b[0m in \u001b[0;36mnormalize_generator_\u001b[1;34m(generator)\u001b[0m\n\u001b[0;32m    839\u001b[0m     \u001b[1;32mif\u001b[0m \u001b[1;32mnot\u001b[0m \u001b[0mSUPPORTS_NEW_NP_RNG_STYLE\u001b[0m\u001b[1;33m:\u001b[0m\u001b[1;33m\u001b[0m\u001b[1;33m\u001b[0m\u001b[0m\n\u001b[0;32m    840\u001b[0m         \u001b[1;32mreturn\u001b[0m \u001b[0m_normalize_generator_np116_\u001b[0m\u001b[1;33m(\u001b[0m\u001b[0mgenerator\u001b[0m\u001b[1;33m)\u001b[0m\u001b[1;33m\u001b[0m\u001b[1;33m\u001b[0m\u001b[0m\n\u001b[1;32m--> 841\u001b[1;33m     \u001b[1;32mreturn\u001b[0m \u001b[0m_normalize_generator_np117_\u001b[0m\u001b[1;33m(\u001b[0m\u001b[0mgenerator\u001b[0m\u001b[1;33m)\u001b[0m\u001b[1;33m\u001b[0m\u001b[1;33m\u001b[0m\u001b[0m\n\u001b[0m\u001b[0;32m    842\u001b[0m \u001b[1;33m\u001b[0m\u001b[0m\n\u001b[0;32m    843\u001b[0m \u001b[1;33m\u001b[0m\u001b[0m\n",
      "\u001b[1;32m~\\Anaconda3\\lib\\site-packages\\imgaug\\random.py\u001b[0m in \u001b[0;36m_normalize_generator_np117_\u001b[1;34m(generator)\u001b[0m\n\u001b[0;32m    849\u001b[0m             \u001b[0mBIT_GENERATOR\u001b[0m\u001b[1;33m(\u001b[0m\u001b[0mgenerator\u001b[0m\u001b[1;33m)\u001b[0m\u001b[1;33m\u001b[0m\u001b[1;33m\u001b[0m\u001b[0m\n\u001b[0;32m    850\u001b[0m         )\n\u001b[1;32m--> 851\u001b[1;33m     \u001b[1;32melif\u001b[0m \u001b[0misinstance\u001b[0m\u001b[1;33m(\u001b[0m\u001b[0mgenerator\u001b[0m\u001b[1;33m,\u001b[0m \u001b[0mnp\u001b[0m\u001b[1;33m.\u001b[0m\u001b[0mrandom\u001b[0m\u001b[1;33m.\u001b[0m\u001b[0mbit_generator\u001b[0m\u001b[1;33m.\u001b[0m\u001b[0mBitGenerator\u001b[0m\u001b[1;33m)\u001b[0m\u001b[1;33m:\u001b[0m\u001b[1;33m\u001b[0m\u001b[1;33m\u001b[0m\u001b[0m\n\u001b[0m\u001b[0;32m    852\u001b[0m         \u001b[0mgenerator\u001b[0m \u001b[1;33m=\u001b[0m \u001b[0mnp\u001b[0m\u001b[1;33m.\u001b[0m\u001b[0mrandom\u001b[0m\u001b[1;33m.\u001b[0m\u001b[0mGenerator\u001b[0m\u001b[1;33m(\u001b[0m\u001b[0mgenerator\u001b[0m\u001b[1;33m)\u001b[0m\u001b[1;33m\u001b[0m\u001b[1;33m\u001b[0m\u001b[0m\n\u001b[0;32m    853\u001b[0m         \u001b[1;31m# TODO is it necessary/sensible here to reset the cache?\u001b[0m\u001b[1;33m\u001b[0m\u001b[1;33m\u001b[0m\u001b[1;33m\u001b[0m\u001b[0m\n",
      "\u001b[1;31mAttributeError\u001b[0m: module 'numpy.random' has no attribute 'bit_generator'"
     ]
    }
   ],
   "source": [
    "import ExperimentManager, FER2013PlusLoader, CNN_FER2013Plus"
   ]
  },
  {
   "cell_type": "code",
   "execution_count": null,
   "metadata": {
    "colab": {},
    "colab_type": "code",
    "id": "lnVayUR8M9R9"
   },
   "outputs": [],
   "source": [
    "# Setting data directory paths\n",
    "dataDirectory = \"/FERPlus/data\"\n",
    "datasetFolderTrain = \"/FERPlus/data/FER2013Train\"\n",
    "datasetFolderTest = \"/FERPlus/data/FER2013Test\"\n",
    "datasetFolderValidation = \"/FERPlus/data/FER2013Valid\"\n",
    "labelFolderTrain = \"/FERPlus/data/FER2013Train/label.csv\"\n",
    "labelFolderTest = \"/FERPlus/data/FER2013Test/label.csv\"\n",
    "labelFolderValidation = \"/FERPlus/data/FER2013Valid/label.csv\""
   ]
  },
  {
   "cell_type": "code",
   "execution_count": null,
   "metadata": {
    "colab": {
     "base_uri": "https://localhost:8080/",
     "height": 139
    },
    "colab_type": "code",
    "executionInfo": {
     "elapsed": 1029,
     "status": "ok",
     "timestamp": 1576869809162,
     "user": {
      "displayName": "Kevin Jordan",
      "photoUrl": "https://lh3.googleusercontent.com/a-/AAuE7mC6XtV_GA6LVR5em8q051dfEEHXsabHiKO6ZsY6YA=s64",
      "userId": "06254352654115806834"
     },
     "user_tz": 360
    },
    "id": "yTBvMeHmNKH7",
    "outputId": "50cddfe5-4d33-4db5-c230-8fb7ecca1e64"
   },
   "outputs": [],
   "source": [
    "# Initialize all the parameters and modules necessary\n",
    "# image size: 64, 64\n",
    "experimentManager = ExperimentManager.ExperimentManager(dataDirectory,\n",
    "                                                            \"FER_Experiment_GPU_CategoricalCrossentropy_2\",\n",
    "                                                            verbose=True)"
   ]
  },
  {
   "cell_type": "markdown",
   "metadata": {
    "colab_type": "text",
    "id": "rvpIYNF1Ojk8"
   },
   "source": [
    "## Data Loading"
   ]
  },
  {
   "cell_type": "code",
   "execution_count": null,
   "metadata": {
    "colab": {},
    "colab_type": "code",
    "id": "OBDnX-ocPwKl"
   },
   "outputs": [],
   "source": [
    "grayScale = True\n",
    "preProcessingProperties = [(64,64), grayScale]"
   ]
  },
  {
   "cell_type": "code",
   "execution_count": null,
   "metadata": {
    "colab": {
     "base_uri": "https://localhost:8080/",
     "height": 887
    },
    "colab_type": "code",
    "executionInfo": {
     "elapsed": 5130,
     "status": "ok",
     "timestamp": 1576869823756,
     "user": {
      "displayName": "Kevin Jordan",
      "photoUrl": "https://lh3.googleusercontent.com/a-/AAuE7mC6XtV_GA6LVR5em8q051dfEEHXsabHiKO6ZsY6YA=s64",
      "userId": "06254352654115806834"
     },
     "user_tz": 360
    },
    "id": "PCuKlsyPNOvj",
    "outputId": "31e92850-bae1-4810-8c8a-b6198898e542"
   },
   "outputs": [],
   "source": [
    "# Load the training and testing data\n",
    "dataLoader = FER2013PlusLoader.FER2013PlusLoader(experimentManager.logManager, preProcessingProperties)\n",
    "dataLoader.loadTrainData(datasetFolderTrain, labelFolderTrain)\n",
    "dataLoader.loadTestData(datasetFolderTest, labelFolderTest)\n",
    "dataLoader.loadValidationData(datasetFolderValidation, labelFolderValidation)"
   ]
  },
  {
   "cell_type": "markdown",
   "metadata": {
    "colab_type": "text",
    "id": "c53qq--aHfxV"
   },
   "source": [
    "## Custom Model Testing"
   ]
  },
  {
   "cell_type": "code",
   "execution_count": null,
   "metadata": {
    "colab": {},
    "colab_type": "code",
    "id": "D_FzOUvyHe3V"
   },
   "outputs": [],
   "source": [
    "import tensorflow as tf \n",
    "from tensorflow.keras.preprocessing.image import ImageDataGenerator\n",
    "from tensorflow.keras.models import Model, load_model\n",
    "from tensorflow.keras.layers import Input, Activation, BatchNormalization, Conv2D, MaxPool2D, Dense, Dropout, Flatten, Lambda\n",
    "from tensorflow.keras.optimizers import  Adamax\n",
    "from tensorflow.keras.callbacks import ModelCheckpoint,  EarlyStopping , ReduceLROnPlateau\n",
    "from sklearn.metrics import r2_score\n",
    "import numpy, copy"
   ]
  },
  {
   "cell_type": "code",
   "execution_count": null,
   "metadata": {
    "colab": {},
    "colab_type": "code",
    "id": "jqJNjYSlB2Bw"
   },
   "outputs": [],
   "source": [
    "tf.executing_eagerly()"
   ]
  },
  {
   "cell_type": "code",
   "execution_count": null,
   "metadata": {
    "colab": {},
    "colab_type": "code",
    "id": "Vjb3wc9DHjWu"
   },
   "outputs": [],
   "source": [
    "from tensorflow.keras import backend as K\n",
    "K.set_image_data_format('channels_first')"
   ]
  },
  {
   "cell_type": "code",
   "execution_count": null,
   "metadata": {
    "colab": {},
    "colab_type": "code",
    "id": "scooM1AuHzWN"
   },
   "outputs": [],
   "source": [
    "import ModelImplementation"
   ]
  },
  {
   "cell_type": "code",
   "execution_count": null,
   "metadata": {
    "colab": {},
    "colab_type": "code",
    "id": "iN9zpKkJIE7t"
   },
   "outputs": [],
   "source": [
    "# Setting hyperparameters\n",
    "batch_size = 32\n",
    "num_epochs = 10\n",
    "num_filters = 256"
   ]
  },
  {
   "cell_type": "code",
   "execution_count": null,
   "metadata": {
    "colab": {},
    "colab_type": "code",
    "id": "o63dTSy2IEqi"
   },
   "outputs": [],
   "source": [
    "def shuntingInhibition(inputs):\n",
    "  inhibitionDecay = 0.5\n",
    "  v_c, v_c_inhibit = inputs\n",
    "  output = (v_c / (inhibitionDecay + v_c_inhibit))\n",
    "  return output"
   ]
  },
  {
   "cell_type": "code",
   "execution_count": null,
   "metadata": {
    "colab": {
     "base_uri": "https://localhost:8080/",
     "height": 34
    },
    "colab_type": "code",
    "executionInfo": {
     "elapsed": 885,
     "status": "ok",
     "timestamp": 1576809687863,
     "user": {
      "displayName": "Kevin Jordan",
      "photoUrl": "https://lh3.googleusercontent.com/a-/AAuE7mC6XtV_GA6LVR5em8q051dfEEHXsabHiKO6ZsY6YA=s64",
      "userId": "06254352654115806834"
     },
     "user_tz": 360
    },
    "id": "TFz1hL1pI7-8",
    "outputId": "92c870a5-c4a0-4dbb-90d1-26ed94e64779"
   },
   "outputs": [],
   "source": [
    "input_shape = dataLoader.dataTest.dataX.shape[1:]\n",
    "print (\"Input Shape: \", input_shape)"
   ]
  },
  {
   "cell_type": "code",
   "execution_count": null,
   "metadata": {
    "colab": {
     "base_uri": "https://localhost:8080/",
     "height": 34
    },
    "colab_type": "code",
    "executionInfo": {
     "elapsed": 1181,
     "status": "ok",
     "timestamp": 1576809689736,
     "user": {
      "displayName": "Kevin Jordan",
      "photoUrl": "https://lh3.googleusercontent.com/a-/AAuE7mC6XtV_GA6LVR5em8q051dfEEHXsabHiKO6ZsY6YA=s64",
      "userId": "06254352654115806834"
     },
     "user_tz": 360
    },
    "id": "8n-msEP0IEf7",
    "outputId": "c689f663-0821-43d5-d637-02c352b41892"
   },
   "outputs": [],
   "source": [
    "print (\"Number of Outputs: \", len(dataLoader.dataTest.labelDictionary))"
   ]
  },
  {
   "cell_type": "code",
   "execution_count": null,
   "metadata": {
    "colab": {},
    "colab_type": "code",
    "id": "LxGtAYA6JLzy"
   },
   "outputs": [],
   "source": [
    "inputLayer = Input(shape=input_shape)"
   ]
  },
  {
   "cell_type": "code",
   "execution_count": null,
   "metadata": {
    "colab": {},
    "colab_type": "code",
    "id": "LQpD9bQzPore"
   },
   "outputs": [],
   "source": [
    "num_of_outputs = len(dataLoader.dataTest.labelDictionary)"
   ]
  },
  {
   "cell_type": "code",
   "execution_count": null,
   "metadata": {
    "colab": {
     "base_uri": "https://localhost:8080/",
     "height": 1000
    },
    "colab_type": "code",
    "executionInfo": {
     "elapsed": 1089,
     "status": "ok",
     "timestamp": 1576809695812,
     "user": {
      "displayName": "Kevin Jordan",
      "photoUrl": "https://lh3.googleusercontent.com/a-/AAuE7mC6XtV_GA6LVR5em8q051dfEEHXsabHiKO6ZsY6YA=s64",
      "userId": "06254352654115806834"
     },
     "user_tz": 360
    },
    "id": "XQrYq3EoJLj7",
    "outputId": "a0aaff5a-c776-4d9c-f15b-133f68394fd8"
   },
   "outputs": [],
   "source": [
    "# Convolutional Layers 1 & 2\n",
    "conv1 = Conv2D(int(num_filters / 4), kernel_size=(3, 3), padding=\"same\", data_format=\"channels_first\")(inputLayer)\n",
    "bn1 = BatchNormalization(axis = 1)(conv1)\n",
    "actv1 = Activation(\"relu\")(bn1)\n",
    "conv2 = Conv2D(int(num_filters / 4), (3, 3), padding=\"same\", data_format=\"channels_first\")(actv1)\n",
    "bn2 = BatchNormalization(axis = 1)(conv2)\n",
    "actv2 = Activation(\"relu\")(bn2)\n",
    "mp1 = MaxPool2D(pool_size=(2, 2))(actv2)\n",
    "drop1 = Dropout(0.25)(mp1)\n",
    "\n",
    "# Convolutional layers 3 & 4\n",
    "conv3 = Conv2D(int(num_filters / 2), (3, 3), padding=\"same\", data_format=\"channels_first\")(drop1)\n",
    "bn3 = BatchNormalization(axis = 1)(conv3)\n",
    "actv3 = Activation(\"relu\")(bn3)\n",
    "conv4 = Conv2D(int(num_filters / 2), (3, 3), padding=\"same\", data_format=\"channels_first\")(actv3)\n",
    "bn4 = BatchNormalization(axis = 1)(conv4)\n",
    "actv4 = Activation(\"relu\")(bn4)\n",
    "mp2 = MaxPool2D(pool_size=(2, 2))(actv4)\n",
    "drop2 = Dropout(0.25)(mp2)\n",
    "\n",
    "# Convolutional layers 5, 6, 7\n",
    "conv5 = Conv2D(int(num_filters / 2), (3, 3), padding=\"same\", data_format=\"channels_first\")(drop2)\n",
    "bn5 = BatchNormalization(axis = 1)(conv5)\n",
    "actv5 = Activation(\"relu\")(bn5)\n",
    "conv6 = Conv2D(int(num_filters / 2), (3, 3), padding=\"same\", data_format=\"channels_first\")(actv5)\n",
    "bn6 = BatchNormalization(axis = 1)(conv6)\n",
    "actv6 = Activation(\"relu\")(bn6)\n",
    "conv7 = Conv2D(int(num_filters / 2), (3, 3), padding=\"same\", data_format=\"channels_first\")(actv6)\n",
    "bn7 = BatchNormalization(axis = 1)(conv7)\n",
    "actv7 = Activation(\"relu\")(bn7)\n",
    "mp3 = MaxPool2D(pool_size=(2, 2))(actv7)\n",
    "drop3 = Dropout(0.25)(mp3)\n",
    "\n",
    "# Convolutional Layers 8, 9 , 10\n",
    "conv8 = Conv2D(num_filters, (3, 3), padding=\"same\", data_format=\"channels_first\")(drop3)\n",
    "bn8 = BatchNormalization(axis = 1)(conv8)\n",
    "actv8 = Activation(\"relu\")(bn8)\n",
    "conv9 = Conv2D(num_filters, (3, 3), padding=\"same\", data_format=\"channels_first\")(actv8)\n",
    "bn9 = BatchNormalization(axis = 1)(conv9)\n",
    "actv9 = Activation(\"relu\")(bn9)\n",
    "conv10 = Conv2D(num_filters , (3, 3), padding=\"same\", activation=\"relu\")(actv9)\n",
    "conv10_inhibition = Conv2D(num_filters, (3, 3), padding=\"same\", activation=\"relu\")(actv9)\n",
    "v_conv_inhibitted = Lambda(function=shuntingInhibition)([conv10, conv10_inhibition])\n",
    "mp4 = MaxPool2D(pool_size=(2, 2))(v_conv_inhibitted)\n",
    "drop4 = Dropout(0.25)(mp4)\n",
    "flatten = Flatten()(drop4)\n",
    "dense = Dense(200, activation=\"relu\")(flatten)\n",
    "drop5 = Dropout(0.25)(dense)\n",
    "output = Dense(num_of_outputs, activation=\"softmax\")(drop5)\n",
    "\n",
    "model = Model(inputs=inputLayer, outputs=output)\n",
    "model.summary()"
   ]
  },
  {
   "cell_type": "code",
   "execution_count": null,
   "metadata": {
    "colab": {},
    "colab_type": "code",
    "id": "e8YhaVtzCJnI"
   },
   "outputs": [],
   "source": [
    "def fmeasure( y_true, y_pred):\n",
    "  \"\"\"Computes the f-measure, the harmonic mean of precision and recall.\n",
    "  Here it is only computed as a batch-wise average, not globally.\n",
    "  \"\"\"\n",
    "  return fbeta_score(y_true, y_pred, beta=1)"
   ]
  },
  {
   "cell_type": "code",
   "execution_count": null,
   "metadata": {
    "colab": {},
    "colab_type": "code",
    "id": "9EeY93LVCciF"
   },
   "outputs": [],
   "source": [
    "def fbeta_score( y_true, y_pred, beta=0.5):\n",
    "  from keras import backend as Kend\n",
    "  \"\"\"Computes the F score.\n",
    "  The F score is the weighted harmonic mean of precision and recall.\n",
    "  Here it is only computed as a batch-wise average, not globally.\n",
    "  This is useful for multi-label classification, where input samples can be\n",
    "  classified as sets of labels. By only using accuracy (precision) a model\n",
    "  would achieve a perfect score by simply assigning every class to every\n",
    "  input. In order to avoid this, a metric should penalize incorrect class\n",
    "  assignments as well (recall). The F-beta score (ranged from 0.0 to 1.0)\n",
    "  computes this, as a weighted mean of the proportion of correct class\n",
    "  assignments vs. the proportion of incorrect class assignments.\n",
    "  With beta = 1, this is equivalent to a F-measure. With beta < 1, assigning\n",
    "  correct classes becomes more important, and with beta > 1 the metric is\n",
    "  instead weighted towards penalizing incorrect class assignments.\n",
    "  \"\"\"\n",
    "  if beta < 0:\n",
    "      raise ValueError('The lowest choosable beta is zero (only precision).')\n",
    "\n",
    "  # If there are no true positives, fix the F score at 0 like sklearn.\n",
    "  if Kend.sum(Kend.round(Kend.clip(y_true, 0, 1))) == 0:\n",
    "      return 0\n",
    "\n",
    "  p = precision(y_true, y_pred)\n",
    "  r = recall(y_true, y_pred)\n",
    "  bb = beta ** 2\n",
    "  fbeta_score = (1 + bb) * (p * r) / (bb * p + r + Kend.epsilon())\n",
    "  return fbeta_score"
   ]
  },
  {
   "cell_type": "code",
   "execution_count": null,
   "metadata": {
    "colab": {},
    "colab_type": "code",
    "id": "2TeYQ-pHCoLg"
   },
   "outputs": [],
   "source": [
    "def precision( y_true, y_pred):\n",
    "  from keras import backend as Kend\n",
    "  \"\"\"Precision metric.\n",
    "  Only computes a batch-wise average of precision.\n",
    "  Computes the precision, a metric for multi-label classification of\n",
    "  how many selected items are relevant.\n",
    "  \"\"\"\n",
    "  true_positives = Kend.sum(Kend.round(Kend.clip(y_true * y_pred, 0, 1)))\n",
    "  predicted_positives = Kend.sum(Kend.round(Kend.clip(y_pred, 0, 1)))\n",
    "  precision = true_positives / (predicted_positives + Kend.epsilon())\n",
    "  return precision\n",
    "    \n",
    "def recall( y_true, y_pred):\n",
    "  from keras import backend as Kend\n",
    "  \"\"\"Recall metric.\n",
    "  Only computes a batch-wise average of recall.\n",
    "  Computes the recall, a metric for multi-label classification of\n",
    "  how many relevant items are selected.\n",
    "  \"\"\"\n",
    "  true_positives = Kend.sum(Kend.round(Kend.clip(y_true * y_pred, 0, 1)))\n",
    "  possible_positives = Kend.sum(Kend.round(Kend.clip(y_true, 0, 1)))\n",
    "  recall = true_positives / (possible_positives + Kend.epsilon())\n",
    "  return recall"
   ]
  },
  {
   "cell_type": "code",
   "execution_count": null,
   "metadata": {
    "colab": {},
    "colab_type": "code",
    "id": "9--eYiSaCzGk"
   },
   "outputs": [],
   "source": [
    "optimizer = Adamax(lr=0.002, beta_1=0.9, beta_2=0.999, epsilon=1e-08, decay=0.0)\n",
    "model.compile(loss= \"categorical_crossentropy\",\n",
    "              optimizer=optimizer,\n",
    "              metrics=['accuracy','categorical_accuracy'])"
   ]
  },
  {
   "cell_type": "code",
   "execution_count": null,
   "metadata": {
    "colab": {},
    "colab_type": "code",
    "id": "p-hMgw7jDdqd"
   },
   "outputs": [],
   "source": [
    "filepath=experimentManager.modelDirectory + \"/weights.best.hdf5\"\n",
    "checkpoint = ModelCheckpoint(filepath, monitor='val_categorical_accuracy', verbose=1, save_best_only=True, mode='max')\n",
    "early_stopping = EarlyStopping(monitor='val_loss', mode=\"min\", patience=25)\n",
    "reduce_lr = ReduceLROnPlateau(factor = 0.5, monitor='val_loss', min_lr = 1e-5, patience = 2)\n",
    "\n",
    "callbacks_list = [checkpoint, early_stopping, reduce_lr]"
   ]
  },
  {
   "cell_type": "code",
   "execution_count": null,
   "metadata": {
    "colab": {
     "base_uri": "https://localhost:8080/",
     "height": 326
    },
    "colab_type": "code",
    "executionInfo": {
     "elapsed": 1035,
     "status": "error",
     "timestamp": 1576810004788,
     "user": {
      "displayName": "Kevin Jordan",
      "photoUrl": "https://lh3.googleusercontent.com/a-/AAuE7mC6XtV_GA6LVR5em8q051dfEEHXsabHiKO6ZsY6YA=s64",
      "userId": "06254352654115806834"
     },
     "user_tz": 360
    },
    "id": "kwSS1tQML3Q-",
    "outputId": "646c79de-13f6-47df-8278-1fd23eacf4e2"
   },
   "outputs": [],
   "source": [
    "model.fit(dataLoader.dataTrain, dataLoader.dataValidation, epochs=10)"
   ]
  },
  {
   "cell_type": "markdown",
   "metadata": {
    "colab_type": "text",
    "id": "aFRNw3y6OaU4"
   },
   "source": [
    "## CNN Building and Training"
   ]
  },
  {
   "cell_type": "code",
   "execution_count": null,
   "metadata": {
    "colab": {},
    "colab_type": "code",
    "id": "my847vB4P-TU"
   },
   "outputs": [],
   "source": [
    "cnnModel = CNN_FER2013Plus.CNN_FER2013(experimentManager, \"CNN\", experimentManager.plotManager)"
   ]
  },
  {
   "cell_type": "code",
   "execution_count": null,
   "metadata": {
    "colab": {
     "base_uri": "https://localhost:8080/",
     "height": 1000
    },
    "colab_type": "code",
    "executionInfo": {
     "elapsed": 1631,
     "status": "ok",
     "timestamp": 1576869878796,
     "user": {
      "displayName": "Kevin Jordan",
      "photoUrl": "https://lh3.googleusercontent.com/a-/AAuE7mC6XtV_GA6LVR5em8q051dfEEHXsabHiKO6ZsY6YA=s64",
      "userId": "06254352654115806834"
     },
     "user_tz": 360
    },
    "id": "SVzEpUhVOKeR",
    "outputId": "48fd3453-d745-494a-8713-a94775a66ecc"
   },
   "outputs": [],
   "source": [
    "cnnModel.buildModel(dataLoader.dataTest.dataX.shape[1:], len(dataLoader.dataTest.labelDictionary))"
   ]
  },
  {
   "cell_type": "code",
   "execution_count": null,
   "metadata": {
    "colab": {
     "base_uri": "https://localhost:8080/",
     "height": 1000
    },
    "colab_type": "code",
    "executionInfo": {
     "elapsed": 538218,
     "status": "error",
     "timestamp": 1576870429713,
     "user": {
      "displayName": "Kevin Jordan",
      "photoUrl": "https://lh3.googleusercontent.com/a-/AAuE7mC6XtV_GA6LVR5em8q051dfEEHXsabHiKO6ZsY6YA=s64",
      "userId": "06254352654115806834"
     },
     "user_tz": 360
    },
    "id": "J2AX78ArOVZi",
    "outputId": "8c0b883f-6811-43c5-bc6d-afa97be4d905"
   },
   "outputs": [],
   "source": [
    "cnnModel.train(dataLoader.dataTrain, dataLoader.dataValidation, False)"
   ]
  },
  {
   "cell_type": "code",
   "execution_count": null,
   "metadata": {
    "colab": {},
    "colab_type": "code",
    "id": "yl-X_XN2OWY8"
   },
   "outputs": [],
   "source": [
    "cnnModel.save(experimentManager.modelDirectory)"
   ]
  },
  {
   "cell_type": "markdown",
   "metadata": {
    "colab_type": "text",
    "id": "pxONphGXOzFY"
   },
   "source": [
    "## Converting Python 2 code to Python 3\n",
    "issue: can't load libraries after conversion for some reason"
   ]
  },
  {
   "cell_type": "code",
   "execution_count": null,
   "metadata": {
    "colab": {
     "base_uri": "https://localhost:8080/",
     "height": 105
    },
    "colab_type": "code",
    "executionInfo": {
     "elapsed": 3506,
     "status": "ok",
     "timestamp": 1576638461410,
     "user": {
      "displayName": "Kevin Jordan",
      "photoUrl": "https://lh3.googleusercontent.com/a-/AAuE7mC6XtV_GA6LVR5em8q051dfEEHXsabHiKO6ZsY6YA=s64",
      "userId": "06254352654115806834"
     },
     "user_tz": 360
    },
    "id": "KByynYORwC1f",
    "outputId": "d8032ecf-2a53-4dc0-a3ba-f6dcc2ceb045"
   },
   "outputs": [],
   "source": [
    "!pip3 install 2to3"
   ]
  },
  {
   "cell_type": "code",
   "execution_count": null,
   "metadata": {
    "colab": {
     "base_uri": "https://localhost:8080/",
     "height": 513
    },
    "colab_type": "code",
    "executionInfo": {
     "elapsed": 1000,
     "status": "ok",
     "timestamp": 1576639170260,
     "user": {
      "displayName": "Kevin Jordan",
      "photoUrl": "https://lh3.googleusercontent.com/a-/AAuE7mC6XtV_GA6LVR5em8q051dfEEHXsabHiKO6ZsY6YA=s64",
      "userId": "06254352654115806834"
     },
     "user_tz": 360
    },
    "id": "kuycfxnsIWn6",
    "outputId": "378758f8-86a4-48be-dfce-2895d410924a"
   },
   "outputs": [],
   "source": [
    "# Need to convert from Python 2 to Python 3\n",
    "!2to3 KEF/Controllers/PlotManager.py\n",
    "# !2to3 -w KEF/Controllers/LogManager.py\n",
    "#!2to3 -w KEF/Controllers/ExperimentManager.py\n",
    "#!2to3 KEF/DataLoaders/FER2013PlusLoader.py\n",
    "# !2to3 -w KEF/Implementations/Vision_CNN_FER2013.py\n",
    "#!2to3 -w KEF/Models/Data.py\n",
    "# !2to3 -w KEF/CustomObjects/losses.py\n",
    "# !2to3 -w KEF/CustomObjects/metrics.py\n",
    "# !2to3 -w KEF/Metrics/losses.py\n",
    "#!2to3 -w KEF/Metrics/metrics.py\n"
   ]
  },
  {
   "cell_type": "code",
   "execution_count": null,
   "metadata": {
    "colab": {},
    "colab_type": "code",
    "id": "P5_ToF-gvesH"
   },
   "outputs": [],
   "source": [
    "from KEF.Controllers import ExperimentManager"
   ]
  },
  {
   "cell_type": "code",
   "execution_count": null,
   "metadata": {
    "colab": {
     "base_uri": "https://localhost:8080/",
     "height": 299
    },
    "colab_type": "code",
    "executionInfo": {
     "elapsed": 429,
     "status": "error",
     "timestamp": 1575939182825,
     "user": {
      "displayName": "Kevin Jordan",
      "photoUrl": "https://lh3.googleusercontent.com/a-/AAuE7mC6XtV_GA6LVR5em8q051dfEEHXsabHiKO6ZsY6YA=s64",
      "userId": "06254352654115806834"
     },
     "user_tz": 360
    },
    "id": "R5kGrnw_S4Es",
    "outputId": "dd04265b-a785-400e-e8d3-223273abd16f"
   },
   "outputs": [],
   "source": [
    "from KEF.DataLoaders import FER2013PlusLoader"
   ]
  },
  {
   "cell_type": "code",
   "execution_count": null,
   "metadata": {
    "colab": {
     "base_uri": "https://localhost:8080/",
     "height": 302
    },
    "colab_type": "code",
    "executionInfo": {
     "elapsed": 700,
     "status": "error",
     "timestamp": 1575939266527,
     "user": {
      "displayName": "Kevin Jordan",
      "photoUrl": "https://lh3.googleusercontent.com/a-/AAuE7mC6XtV_GA6LVR5em8q051dfEEHXsabHiKO6ZsY6YA=s64",
      "userId": "06254352654115806834"
     },
     "user_tz": 360
    },
    "id": "M0j5vE_bMvYQ",
    "outputId": "3720481e-a936-4880-c03f-151f8439a33e"
   },
   "outputs": [],
   "source": [
    "from KEF.Implementations import Vision_CNN_FER2013"
   ]
  },
  {
   "cell_type": "code",
   "execution_count": null,
   "metadata": {
    "colab": {},
    "colab_type": "code",
    "id": "PG5oKiB5H2tU"
   },
   "outputs": [],
   "source": [
    "from google.colab import drive\n",
    "drive.mount('/content/drive')"
   ]
  }
 ],
 "metadata": {
  "accelerator": "GPU",
  "colab": {
   "collapsed_sections": [
    "0uirvnkpyMXm",
    "n4Z3Cbd4vsx8",
    "pxONphGXOzFY"
   ],
   "name": "AffectiveMemory.ipynb",
   "provenance": []
  },
  "kernelspec": {
   "display_name": "Python 3",
   "language": "python",
   "name": "python3"
  },
  "language_info": {
   "codemirror_mode": {
    "name": "ipython",
    "version": 3
   },
   "file_extension": ".py",
   "mimetype": "text/x-python",
   "name": "python",
   "nbconvert_exporter": "python",
   "pygments_lexer": "ipython3",
   "version": "3.7.4"
  },
  "toc": {
   "base_numbering": 1,
   "nav_menu": {},
   "number_sections": true,
   "sideBar": true,
   "skip_h1_title": false,
   "title_cell": "Table of Contents",
   "title_sidebar": "Contents",
   "toc_cell": false,
   "toc_position": {},
   "toc_section_display": true,
   "toc_window_display": false
  },
  "varInspector": {
   "cols": {
    "lenName": 16,
    "lenType": 16,
    "lenVar": 40
   },
   "kernels_config": {
    "python": {
     "delete_cmd_postfix": "",
     "delete_cmd_prefix": "del ",
     "library": "var_list.py",
     "varRefreshCmd": "print(var_dic_list())"
    },
    "r": {
     "delete_cmd_postfix": ") ",
     "delete_cmd_prefix": "rm(",
     "library": "var_list.r",
     "varRefreshCmd": "cat(var_dic_list()) "
    }
   },
   "types_to_exclude": [
    "module",
    "function",
    "builtin_function_or_method",
    "instance",
    "_Feature"
   ],
   "window_display": false
  }
 },
 "nbformat": 4,
 "nbformat_minor": 1
}
